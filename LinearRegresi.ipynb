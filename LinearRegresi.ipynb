{
  "nbformat": 4,
  "nbformat_minor": 0,
  "metadata": {
    "colab": {
      "provenance": []
    },
    "kernelspec": {
      "name": "python3",
      "display_name": "Python 3"
    },
    "language_info": {
      "name": "python"
    }
  },
  "cells": [
    {
      "cell_type": "code",
      "execution_count": 1,
      "metadata": {
        "id": "qUWEqlDq_fXq"
      },
      "outputs": [],
      "source": [
        "from scipy import stats"
      ]
    },
    {
      "cell_type": "code",
      "source": [
        "# x = data tinggi badan (cm)\n",
        "x = [151, 174, 138, 186, 128, 136, 179, 163, 152, 131]"
      ],
      "metadata": {
        "id": "7XFF7XzM_tPY"
      },
      "execution_count": 15,
      "outputs": []
    },
    {
      "cell_type": "code",
      "source": [
        "# y = data berat badan (kg)\n",
        "y = [63, 81, 56, 91, 47, 57, 76, 72, 62, 48]"
      ],
      "metadata": {
        "id": "o0-_C7XSAFSb"
      },
      "execution_count": 16,
      "outputs": []
    },
    {
      "cell_type": "code",
      "source": [
        "slope, intercept, r, p, std_err = stats.linregress(x,y)"
      ],
      "metadata": {
        "id": "QOKy8VzKAbO0"
      },
      "execution_count": 17,
      "outputs": []
    },
    {
      "cell_type": "code",
      "source": [
        "# buat fungsi linear regresi\n",
        "def myfunc(x):\n",
        "  return slope * x + intercept"
      ],
      "metadata": {
        "id": "vg5Rc-Y3AzFW"
      },
      "execution_count": 18,
      "outputs": []
    },
    {
      "cell_type": "code",
      "source": [
        "berat_badan = myfunc(151)"
      ],
      "metadata": {
        "id": "pDD_z37PBF-n"
      },
      "execution_count": 20,
      "outputs": []
    },
    {
      "cell_type": "code",
      "source": [
        "print(berat_badan)"
      ],
      "metadata": {
        "colab": {
          "base_uri": "https://localhost:8080/"
        },
        "id": "KyIOW-YIBQFt",
        "outputId": "acec6469-6afb-4a60-c1d2-a82eee05c5f0"
      },
      "execution_count": 21,
      "outputs": [
        {
          "output_type": "stream",
          "name": "stdout",
          "text": [
            "63.41109074243812\n"
          ]
        }
      ]
    }
  ]
}